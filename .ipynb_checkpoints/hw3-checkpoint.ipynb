{
 "cells": [
  {
   "cell_type": "markdown",
   "metadata": {},
   "source": [
    "# Homework 5: Lexicons and Distributional Semantics\n",
    "\n",
    "This is due on **Friday, 11/10 (11pm)** \n",
    "\n",
    "## How to do this problem set\n",
    "\n",
    "Most of these questions require writing Python code and computing results, and the rest of them have textual answers.  Write all the textual answers in this document, show the output of your experiment in this document, and implement the functions in the `python` files. \n",
    "\n",
    "Submit a PDF of thie .ipynb to Gradescope, and the .ipynb and all python files to Moodle.\n",
    "\n",
    "The assignment has two parts:\n",
    " * In the first part, you will experiment with Turney's method to find word polarities in a twitter dataset, given some positive and negative seed words.\n",
    " * In the second part, you will experiment with distributional and vector semantics."
   ]
  },
  {
   "cell_type": "markdown",
   "metadata": {},
   "source": [
    "**Jucong He**\n",
    "\n",
    "**List collaborators, and how you collaborated, here:** (see our [grading and policies page](http://people.cs.umass.edu/~brenocon/inlp2017/grading.html) for details on our collaboration policy).\n",
    "\n",
    "* _name 1_ "
   ]
  },
  {
   "cell_type": "markdown",
   "metadata": {},
   "source": [
    "## Part 1: Lexicon semantics"
   ]
  },
  {
   "cell_type": "markdown",
   "metadata": {},
   "source": [
    "\n",
    "Recall that PMI of a pair of words, is defined as:\n",
    "\n",
    "$$PMI(x, y) = log\\frac{ P(x, y) }{ P(x)P(y)}$$\n",
    "\n",
    "The Turney mehod defines a word's polarity as:\n",
    "\n",
    "$$Polarity(word) = PMI(word, positive\\_word)−PMI(word, negative\\_word)$$\n",
    "\n",
    "where the joint probability $P(w, v)$ or, more specifically, $P(w\\ NEAR\\ v)$ is the probability of both being \"near\" each other.  We'll work with tweets, so it means: if you choose a tweet at random, what's the chance it contains both `w` and `v`?\n",
    "\n",
    "(If you look at the Turney method as explained in the SLP3 chapter, the \"hits\" function is a count of web pages that contain at least one instance of the two words occurring near each other.)\n",
    "\n",
    "The positive_word and negative_word terms are initially constructed by hand. For example: we might start with single positive word ('excellent') and a single negative word ('bad'). We can also have list of positive words ('excellent', 'perfect', 'love', ....) and list of negative words ('bad', 'hate', 'filthy',....)\n",
    "\n",
    "If we're using a seed list of multiple terms, just combine them into a single symbol, e.g. all the positive seed words get rewritten to POS_WORD (and similarly for NEG_WORD).  This $P(w, POS\\_WORD)$ effectively means the co-ocurrence of $w$ with any of the terms in the list.\n",
    "\n",
    "For this assignment, we will use twitter dataset which has 349378 tweets. These tweets are in the file named `tweets.txt`. These are the tweets of one day and filtered such that each tweet contains at least one of the seed words we've selected."
   ]
  },
  {
   "cell_type": "markdown",
   "metadata": {},
   "source": [
    "## Question 1 (15 points)\n",
    "\n",
    "The file `tweets.txt` contains around 349,378 tweets with one tweet per line.  It is a random sample of public tweets, which we tokenized with [twokenize.py's tokenizeRawTweetText()](https://github.com/myleott/ark-twokenize-py/blob/master/twokenize.py)). The text you see has a space between each token so you can just use `.split()` if you want.  We also filtered tweets to ones that included at least one term from one of these seed lists:\n",
    "* Positive seed list: [\"good\", \"nice\", \"love\", \"excellent\", \"fortunate\", \"correct\", \"superior\"]\n",
    "* Negative seed list: [\"bad\", \"nasty\", \"poor\", \"hate\", \"unfortunate\", \"wrong\", \"inferior\"]\n",
    "\n",
    "Each tweet contains at least one positive or negative seed word. Take a look at the file (e.g. `less' and `grep'). Implement the Turney's method to calculate polarity scores of all words.\n",
    "\n",
    "Some things to keep in mind:\n",
    "* Ignore the seed words (i.e. don't calculate the polarity of the seed words).\n",
    "* You may want to ignore the polarity of words beignning with `@` or `#`. \n",
    "\n",
    "We recommend that you write code in a python file, but it's up to you.\n",
    "\n",
    "QUESTION: You'll have to do something to handle zeros in the PMI equation. Please explain your and justify your decision about this."
   ]
  },
  {
   "cell_type": "markdown",
   "metadata": {},
   "source": [
    "The P(x,y) might be zero because there might be some case that none of the tweets contain two words at the same time. My approch to handle this problem is assign the PMI to 0, because 0 doesn't effect the average while we are doing calculation in the log space."
   ]
  },
  {
   "cell_type": "markdown",
   "metadata": {
    "collapsed": true
   },
   "source": [
    "## Question 2 (5 points)\n",
    "\n",
    "Print the top 50 most-positive words (i.e. inferred positive words) and the 50 most-negative words.\n",
    "\n",
    "Many of the words won't make sense.  Comment on at least two that do make sense, and at least two that don't.  Why do you think these are happening with this dataset and method?"
   ]
  },
  {
   "cell_type": "code",
   "execution_count": 8,
   "metadata": {},
   "outputs": [
    {
     "name": "stdout",
     "output_type": "stream",
     "text": [
      "The autoreload extension is already loaded. To reload it, use:\n",
      "  %reload_ext autoreload\n"
     ]
    }
   ],
   "source": [
    "from polarity import *\n",
    "%load_ext autoreload\n",
    "%autoreload 2\n",
    "word_count_dic, word_pair_count_dic = load_pickle()"
   ]
  },
  {
   "cell_type": "code",
   "execution_count": 9,
   "metadata": {
    "scrolled": true
   },
   "outputs": [
    {
     "name": "stdout",
     "output_type": "stream",
     "text": [
      "calculating polarity\n",
      "\n",
      "=======positive=======\n",
      "\n",
      "panel\n",
      "https://t.co/bltncugulr\n",
      "birthday\n",
      "hubby\n",
      "conn\n",
      "normal\\\n",
      "ensemble\n",
      "anti-trump\n",
      "👍\n",
      "fearless\n",
      "africans\n",
      "ma'am.\n",
      "😊\n",
      "hood\n",
      "💕\n",
      "colleagues\n",
      "dots\n",
      "distinction\n",
      ":d\n",
      "bounces\n",
      "decay\n",
      "drones\n",
      "pbo\n",
      "forces\n",
      "perth\n",
      "dana\n",
      "dinner\n",
      "makeup\n",
      "sane\n",
      "addition\n",
      "hello\n",
      "sellers\n",
      "tenders\n",
      "her\\\n",
      "opportunities\n",
      "speaks\n",
      "goodbye\n",
      "touc…\n",
      "lukacs\n",
      "https://t.co/fdbx5rrpxf\n",
      "goodnight\n",
      "s/o\n",
      "definitions\n",
      "field\n",
      "indianan\n",
      "beautiful\n",
      "visit\n",
      "thanks\n",
      "london\n",
      "connecting\n",
      "\n",
      "=======negative=======\n",
      "\n",
      "bcoz\n",
      "families\n",
      "violent\n",
      "hateful\n",
      "trustworthy\n",
      "swallow\n",
      "paraded\n",
      "martyrdom\n",
      "civilization\n",
      "2/\n",
      "corporations\n",
      "starve\n",
      "mantra\n",
      "prompt\n",
      "stomach\n",
      "whites\n",
      "exploited\n",
      "viral\n",
      "cleared\n",
      "😷\n",
      "illustration\n",
      "introducing\n",
      "repulsive\n",
      "obamacare\n",
      "despicable\n",
      "officiating\n",
      "victims\n",
      "deaths\n",
      "gurmeher\n",
      "`\n",
      "https://t.co/bcd5vqb67i\n",
      "*)\n",
      "dgm\n",
      "(つω`*)\n",
      "∀\n",
      "souls\\\n",
      "v(´\n",
      "https://t.co/6twyf2xs44\n",
      "lorde…\n",
      "—audre\n",
      "moods\n",
      "medicaid\n",
      "3.5\n",
      "aug\n",
      "plain\n",
      "raid\n",
      "behavior\n",
      "deviant\n",
      "justify\n",
      "slaves\n"
     ]
    }
   ],
   "source": [
    "print 'calculating polarity'\n",
    "polarity_dic = calculate_polarity(word_count_dic, word_pair_count_dic)\n",
    "print '\\n=======positive=======\\n'\n",
    "sorted_polarity = sorted(polarity_dic.items(), key=lambda (w, c): -c)\n",
    "for p in sorted_polarity[:50]:\n",
    "    print p[0]\n",
    "print '\\n=======negative=======\\n'\n",
    "for p in reversed(sorted_polarity[-50:]):\n",
    "    print p[0]"
   ]
  },
  {
   "cell_type": "markdown",
   "metadata": {
    "collapsed": true
   },
   "source": [
    "Fearless and beautiful make as positive words while makeup and africans doesn't. This happen because the occurence of these word occurred is very low approximate to 0, as well as the occurence of these word and a posivite word occurred at the same time also very low. Then the positive PMI can be very high, like approximate 1. One the other hand, the negative is very low, like 0, because only few or none of the given word occured with a combination of a negative word. Thus, the polarity of these word is very high positive."
   ]
  },
  {
   "cell_type": "markdown",
   "metadata": {},
   "source": [
    "## Question 3 (5 points)\n",
    "\n",
    "Now filter out all the words which have total count < 500, and then print top 50 polarity words and bottom 50 polarity words. \n",
    "\n",
    "Choose some of the words from both the sets of 50 words you got above which accoording to you make sense. Again please note, you will find many words which don't make sense. Do you think these results are better than the results you got in Question-1? Explain why."
   ]
  },
  {
   "cell_type": "code",
   "execution_count": 13,
   "metadata": {
    "scrolled": true
   },
   "outputs": [
    {
     "name": "stdout",
     "output_type": "stream",
     "text": [
      "decay\n",
      "ol\n",
      "taylor\n",
      "pregnancy\n",
      "hood\n",
      "birthday\n",
      "❤️\n",
      "❤\n",
      "😊\n",
      "hilarious\n",
      "morning\n",
      "d\n",
      "fall\n",
      "thank\n",
      "falling\n",
      "happy\n",
      "march\n",
      "beautiful\n",
      "thanks\n",
      "nadine\n",
      "amazing\n",
      "follow\n",
      "😍\n",
      "proud\n",
      "loved\n",
      "soon\n",
      ":)\n",
      "forever\n",
      "feels\n",
      "sounds\n",
      "young\n",
      "!!\n",
      "together\n",
      "deserve\n",
      "you\\\n",
      "support\n",
      "movie\n",
      "vibes\n",
      "!!!\n",
      "hope\n",
      "luck\n",
      "become\n",
      "music\n",
      "panalomoto\n",
      "|\n",
      "miss\n",
      "night\n",
      "god\n",
      "best\n",
      "true\n",
      "\n",
      "=======negative=======\n",
      "\n",
      "cigarettes\n",
      "condemning\n",
      "marijuana\n",
      "crimes\n",
      "i’ll\n",
      "stands\n",
      "beer\n",
      "forms\n",
      "store\n",
      "explain\n",
      "crime\n",
      "evil\n",
      "united\n",
      "ugly\n",
      "pick\n",
      "child\n",
      "against\n",
      "after\n",
      "w\n",
      "dems\n",
      "stand\n",
      "saf…\n",
      "ppl\n",
      "went\n",
      "parents\n",
      "american\n",
      "country\n",
      "men\n",
      "ask\n",
      "whole\n",
      "trump\n",
      "says\n",
      "idk\n",
      "left\n",
      "something\n",
      "myself\n",
      "every\n",
      "woman\n",
      "its\n",
      "women\n",
      "negative\n",
      "use\n",
      "especially\n",
      "believe\n",
      "must\n",
      "nothing\n",
      "send\n",
      "right\n",
      "going\n",
      "worse\n"
     ]
    }
   ],
   "source": [
    "polarity_dic = calculate_polarity(word_count_dic, word_pair_count_dic,filter=500)\n",
    "sorted_polarity = sorted(polarity_dic.items(), key=lambda (w, c): -c)\n",
    "for p in sorted_polarity[:50]:\n",
    "    print p[0]\n",
    "print '\\n=======negative=======\\n'\n",
    "for p in reversed(sorted_polarity[-50:]):\n",
    "    print p[0]"
   ]
  },
  {
   "cell_type": "markdown",
   "metadata": {},
   "source": [
    "The result is better than Question 1, because it avoid cases that high PMI value create by two low P(x,y) and P(x)P(y). "
   ]
  },
  {
   "cell_type": "markdown",
   "metadata": {},
   "source": [
    "## Question 4 (5 points)\n",
    "\n",
    "Even after filtering out words with count < 500, many top-most and bottom-most polarity don't make sense. Identify what kind of words these are and what can be done to filter them out. You can read some tweets in the file to see what's happening. "
   ]
  },
  {
   "cell_type": "markdown",
   "metadata": {
    "collapsed": true
   },
   "source": [
    "The top most word doesn't make sense, because inside the dataset there are a lot of same tweet contain decay and happy at the same time, this is kind of overfitting the training process. The bottom most word is worse, this happen because many tweet containt worse and a positive word at the same time. If the number of pos tweet contain worse or number of neg tweet contain worse is close to each other, then polarity of worse is approching 0. "
   ]
  },
  {
   "cell_type": "markdown",
   "metadata": {},
   "source": [
    "# Part-2: Distributional Semantics"
   ]
  },
  {
   "cell_type": "markdown",
   "metadata": {},
   "source": [
    "## Cosine Similarity"
   ]
  },
  {
   "cell_type": "markdown",
   "metadata": {},
   "source": [
    "Recall that, where $i$ indexes over the context types, cosine similarity is defined as follows. $x$ and $y$ are both vectors of context counts (each for a different word), where $x_i$ is the count of context $i$.\n",
    "\n",
    "$$cossim(x,y) = \\frac{ \\sum_i x_i y_i }{ \\sqrt{\\sum_i x_i^2} \\sqrt{\\sum_i y_i^2} }$$\n",
    "\n",
    "The nice thing about cosine similarity is that it is normalized: no matter what the input vectors are, the output is between 0 and 1. One way to think of this is that cosine similarity is just, um, the cosine function, which has this property (for non-negative $x$ and $y$). Another way to think of it is, to work through the situations of maximum and minimum similarity between two context vectors, starting from the definition above.\n",
    "\n",
    "Note: a good way to understand the cosine similarity function is that the numerator cares about whether the $x$ and $y$ vectors are correlated. If $x$ and $y$ tend to have high values for the same contexts, the numerator tends to be big. The denominator can be thought of as a normalization factor: if all the values of $x$ are really large, for example, dividing by the square root of their sum-of-squares prevents the whole thing from getting arbitrarily large. In fact, dividing by both these things (aka their norms) means the whole thing can’t go higher than 1.\n",
    "\n",
    "In this problem we'll work with vectors of raw context counts.  (As you know, this is not necessarily the best representation.)"
   ]
  },
  {
   "cell_type": "markdown",
   "metadata": {},
   "source": [
    "## Question 5 (5 points)\n",
    "\n",
    "See the file `nytcounts.university_cat_dog`, which contains context count vectors for three words: “dog”, “cat”, and “university”. These are immediate left and right contexts from a New York Times corpus. You can open the file in a text editor since it’s quite small. \n",
    "\n",
    "Write a function which takes context count dictionaries of two words and calculates cosine similarity between these two words. The function should return a number beween 0 and 1.  Briefly comment on whether the relative simlarities make sense.\n",
    "\n"
   ]
  },
  {
   "cell_type": "code",
   "execution_count": 3,
   "metadata": {},
   "outputs": [
    {
     "name": "stdout",
     "output_type": "stream",
     "text": [
      "file nytcounts.university_cat_dog has contexts for 3 words\n",
      "0.0\n",
      "nan\n"
     ]
    },
    {
     "name": "stderr",
     "output_type": "stream",
     "text": [
      "distsim.py:64: RuntimeWarning: invalid value encountered in double_scalars\n",
      "  return cos\n"
     ]
    }
   ],
   "source": [
    "import distsim; reload(distsim)\n",
    "\n",
    "word_to_ccdict = distsim.load_contexts(\"nytcounts.university_cat_dog\")\n",
    "university = word_to_ccdict['university']\n",
    "dog = word_to_ccdict['dog']\n",
    "cat = word_to_ccdict['cat']\n",
    "print distsim.cosine(university, dog)\n",
    "# write code here to show output (i.e. cosine similarity between these words.)\n",
    "# We encourage you to write other functions in distsim.py itself. "
   ]
  },
  {
   "cell_type": "markdown",
   "metadata": {},
   "source": [
    "**Write your response here:**\n",
    "\n",
    "\n"
   ]
  },
  {
   "cell_type": "markdown",
   "metadata": {},
   "source": [
    "\n",
    "## Question 6 (20 points)\n",
    "\n",
    "Explore similarities in `nytcounts.4k`, which contains context counts for about 4000 words in a sample of New York Times articles. The news data was lowercased and URLs were removed. The context counts are for the 2000 most common words in twitter, as well as the most common 2000 words in the New York Times. (But all context counts are from New York Times.) The context counts only contain contexts that appeared for more than one word.  The file has three tab-separate fields: the word, its count, and a JSON-encoded dictionary of its context counts.  You'll see it's just counts of the immediate left/right neighbors.\n",
    "\n",
    "Choose **six** words. For each, show the output of 20 nearest words (use cosine similarity as distance metric). Comment on whether the output makes sense. Comment on whether this approach to distributional similarity makes more or less sense for certain terms.\n",
    "Four of your words should be:\n",
    "\n",
    " * a name (for example: person, organization, or location)\n",
    " * a common noun\n",
    " * an adjective\n",
    " * a verb\n",
    "\n",
    "You may also want to try exploring further words that are returned from a most-similar list from one of these. You can think of this as traversing the similarity graph among words.\n",
    "\n",
    "*Implementation note:* \n",
    "On my laptop it takes several hundred MB of memory to load it into memory from the `load_contexts()` function. If you don’t have enough memory available, your computer will get very slow because the OS will start swapping. If you have to use a machine without that much memory available, you can instead implement in a streaming approach by using the `stream_contexts()` generator function to access the data; this lets you iterate through the data from disk, one vector at a time, without putting everything into memory. You can see its use in the loading function. (You could also alternatively use a key-value or other type of database, but that’s too much work for this assignment.)"
   ]
  },
  {
   "cell_type": "code",
   "execution_count": null,
   "metadata": {
    "collapsed": true
   },
   "outputs": [],
   "source": [
    "import distsim; reload(distsim)\n",
    "word_to_ccdict = distsim.load_contexts(\"nytcounts.4k\")\n",
    "###Provide your answer below; perhaps in another cell so you don't have to reload the data each time"
   ]
  },
  {
   "cell_type": "markdown",
   "metadata": {},
   "source": [
    "## Question 7 (10 points)\n",
    "\n",
    "In the next several questions, you'll examine similarities in trained word embeddings, instead of raw context counts.\n",
    "\n",
    "See the file `nyt_word2vec.university_cat_dog`, which contains word embedding vectors pretrained by word2vec [1] for three words: “dog”, “cat”, and “university”, from the same corpus. You can open the file in a text editor since it’s quite small.\n",
    "\n",
    "Write a function which takes word embedding vectors of two words and calculates cossine similarity between these 2 words. The function should return a number beween -1 and 1. Briefly comment on whether the relative simlarities make sense. \n",
    "\n",
    "*Implementation note:*\n",
    "Notice that the inputs of this function are numpy arrays (v1 and v2). If you are not very familiar with the basic operation in numpy, you can find some examples in the basic operation section here:\n",
    "https://docs.scipy.org/doc/numpy-dev/user/quickstart.html\n",
    "\n",
    "If you know how to use Matlab but haven't tried numpy before, the following link should be helpful:\n",
    "https://docs.scipy.org/doc/numpy-dev/user/numpy-for-matlab-users.html\n",
    "\n",
    "[1] Mikolov, Tomas, et al. \"Distributed representations of words and phrases and their compositionality.\" NIPS 2013."
   ]
  },
  {
   "cell_type": "code",
   "execution_count": null,
   "metadata": {
    "collapsed": true
   },
   "outputs": [],
   "source": [
    "import distsim; reload(distsim)\n",
    "\n",
    "word_to_vec_dict = distsim.load_word2vec(\"nyt_word2vec.4k\")\n",
    "\n",
    "# write code here to show output (i.e. cosine similarity between these words.)\n",
    "# We encourage you to write other functions in distsim.py itself. "
   ]
  },
  {
   "cell_type": "markdown",
   "metadata": {},
   "source": [
    "**Write your response here:**\n",
    "\n",
    "\n"
   ]
  },
  {
   "cell_type": "markdown",
   "metadata": {},
   "source": [
    "## Question 8 (20 points)\n",
    "\n",
    "Repeat the process you did in the question 6, but now use dense vector from word2vec. Comment on whether the outputs makes sense. Compare the outputs of using nearest words on word2vec and the outputs on sparse context vector (so we suggest you to use the same words in question 6). Which method works better on the query words you choose. Please brief explain why one method works better than other in each case.\n",
    "\n",
    "Not: we used the default parameters of word2vec in [gensim](https://radimrehurek.com/gensim/models/word2vec.html) to get word2vec word embeddings."
   ]
  },
  {
   "cell_type": "code",
   "execution_count": null,
   "metadata": {
    "collapsed": true
   },
   "outputs": [],
   "source": [
    "import distsim\n",
    "word_to_vec_dict = distsim.load_word2vec(\"nyt_word2vec.4k\")\n",
    "###Provide your answer below"
   ]
  },
  {
   "cell_type": "markdown",
   "metadata": {},
   "source": [
    "## Question 9 (15 points)\n",
    "An interesting thing to try with word embeddings is analogical reasoning tasks. In the following example, it's intended to solve the analogy question \"king is to man as what is to woman?\", or in SAT-style notation,\n",
    "\n",
    "king : man :: ____ : woman\n",
    "\n",
    "Some research has proposed to use additive operations on word embeddings to solve the analogy: take the vector $(v_{king}-v_{man}+v_{woman})$ and find the most-similar word to it.  One way to explain this idea: if you take \"king\", get rid of its attributes/contexts it shares with \"man\", and add in the attributes/contexts of \"woman\", hopefully you'll get to a point in the space that has king-like attributes but the \"man\" ones replaced with \"woman\" ones.\n",
    "\n",
    "Show the output for 20 closest words you get by trying to solve that analogy with this method.  Did it work?\n",
    "\n",
    "Please come up with another analogical reasoning task (another triple of words), and output the answer using the same method. Comment on whether the output makes sense. If the output makes sense, explain why we can capture such relation between words using an unsupervised algorithm. Where does the information come from? On the other hand, if the output does not make sense, propose an explanation why the algorithm fails on this case.\n",
    "\n",
    "\n",
    "Note that the word2vec is trained in an unsupervised manner just with distributional statistics; it is interesting that it can apparently do any reasoning at all.  For a critical view, see [Linzen 2016](http://www.aclweb.org/anthology/W/W16/W16-2503.pdf).\n",
    "\n"
   ]
  },
  {
   "cell_type": "code",
   "execution_count": null,
   "metadata": {
    "collapsed": true
   },
   "outputs": [],
   "source": [
    "# Write code to show output here."
   ]
  },
  {
   "cell_type": "markdown",
   "metadata": {},
   "source": [
    "### Textual answer here."
   ]
  }
 ],
 "metadata": {
  "anaconda-cloud": {},
  "kernelspec": {
   "display_name": "Python 2",
   "language": "python",
   "name": "python2"
  },
  "language_info": {
   "codemirror_mode": {
    "name": "ipython",
    "version": 2
   },
   "file_extension": ".py",
   "mimetype": "text/x-python",
   "name": "python",
   "nbconvert_exporter": "python",
   "pygments_lexer": "ipython2",
   "version": "2.7.13"
  }
 },
 "nbformat": 4,
 "nbformat_minor": 1
}
