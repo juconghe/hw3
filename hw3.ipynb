{
 "cells": [
  {
   "cell_type": "markdown",
   "metadata": {},
   "source": [
    "# Homework 5: Lexicons and Distributional Semantics\n",
    "\n",
    "This is due on **Friday, 11/10 (11pm)** \n",
    "\n",
    "## How to do this problem set\n",
    "\n",
    "Most of these questions require writing Python code and computing results, and the rest of them have textual answers.  Write all the textual answers in this document, show the output of your experiment in this document, and implement the functions in the `python` files. \n",
    "\n",
    "Submit a PDF of thie .ipynb to Gradescope, and the .ipynb and all python files to Moodle.\n",
    "\n",
    "The assignment has two parts:\n",
    " * In the first part, you will experiment with Turney's method to find word polarities in a twitter dataset, given some positive and negative seed words.\n",
    " * In the second part, you will experiment with distributional and vector semantics."
   ]
  },
  {
   "cell_type": "markdown",
   "metadata": {},
   "source": [
    "**Jucong He**\n",
    "\n",
    "**List collaborators, and how you collaborated, here:** (see our [grading and policies page](http://people.cs.umass.edu/~brenocon/inlp2017/grading.html) for details on our collaboration policy).\n",
    "\n",
    "* _name 1_ "
   ]
  },
  {
   "cell_type": "markdown",
   "metadata": {},
   "source": [
    "## Part 1: Lexicon semantics"
   ]
  },
  {
   "cell_type": "markdown",
   "metadata": {},
   "source": [
    "\n",
    "Recall that PMI of a pair of words, is defined as:\n",
    "\n",
    "$$PMI(x, y) = log\\frac{ P(x, y) }{ P(x)P(y)}$$\n",
    "\n",
    "The Turney mehod defines a word's polarity as:\n",
    "\n",
    "$$Polarity(word) = PMI(word, positive\\_word)−PMI(word, negative\\_word)$$\n",
    "\n",
    "where the joint probability $P(w, v)$ or, more specifically, $P(w\\ NEAR\\ v)$ is the probability of both being \"near\" each other.  We'll work with tweets, so it means: if you choose a tweet at random, what's the chance it contains both `w` and `v`?\n",
    "\n",
    "(If you look at the Turney method as explained in the SLP3 chapter, the \"hits\" function is a count of web pages that contain at least one instance of the two words occurring near each other.)\n",
    "\n",
    "The positive_word and negative_word terms are initially constructed by hand. For example: we might start with single positive word ('excellent') and a single negative word ('bad'). We can also have list of positive words ('excellent', 'perfect', 'love', ....) and list of negative words ('bad', 'hate', 'filthy',....)\n",
    "\n",
    "If we're using a seed list of multiple terms, just combine them into a single symbol, e.g. all the positive seed words get rewritten to POS_WORD (and similarly for NEG_WORD).  This $P(w, POS\\_WORD)$ effectively means the co-ocurrence of $w$ with any of the terms in the list.\n",
    "\n",
    "For this assignment, we will use twitter dataset which has 349378 tweets. These tweets are in the file named `tweets.txt`. These are the tweets of one day and filtered such that each tweet contains at least one of the seed words we've selected."
   ]
  },
  {
   "cell_type": "markdown",
   "metadata": {},
   "source": [
    "## Question 1 (15 points)\n",
    "\n",
    "The file `tweets.txt` contains around 349,378 tweets with one tweet per line.  It is a random sample of public tweets, which we tokenized with [twokenize.py's tokenizeRawTweetText()](https://github.com/myleott/ark-twokenize-py/blob/master/twokenize.py)). The text you see has a space between each token so you can just use `.split()` if you want.  We also filtered tweets to ones that included at least one term from one of these seed lists:\n",
    "* Positive seed list: [\"good\", \"nice\", \"love\", \"excellent\", \"fortunate\", \"correct\", \"superior\"]\n",
    "* Negative seed list: [\"bad\", \"nasty\", \"poor\", \"hate\", \"unfortunate\", \"wrong\", \"inferior\"]\n",
    "\n",
    "Each tweet contains at least one positive or negative seed word. Take a look at the file (e.g. `less' and `grep'). Implement the Turney's method to calculate polarity scores of all words.\n",
    "\n",
    "Some things to keep in mind:\n",
    "* Ignore the seed words (i.e. don't calculate the polarity of the seed words).\n",
    "* You may want to ignore the polarity of words beignning with `@` or `#`. \n",
    "\n",
    "We recommend that you write code in a python file, but it's up to you.\n",
    "\n",
    "QUESTION: You'll have to do something to handle zeros in the PMI equation. Please explain your and justify your decision about this."
   ]
  },
  {
   "cell_type": "markdown",
   "metadata": {},
   "source": [
    "The P(x,y) might be zero because there might be some case that none of the tweets contain two words at the same time. My approch to using psudo count smoothing with alpha=1. If I add alpha while calculating p(x,y) and (x,y) never exist, the probability of P(w,y) is very low, on the other hand; it's very large negative number in log space. As a result, if a (x,y) always occured in positive, the polarity of x is very large or very small if y is negative. This is totally Ok, because we are doing binary classification."
   ]
  },
  {
   "cell_type": "markdown",
   "metadata": {
    "collapsed": true
   },
   "source": [
    "## Question 2 (5 points)\n",
    "\n",
    "Print the top 50 most-positive words (i.e. inferred positive words) and the 50 most-negative words.\n",
    "\n",
    "Many of the words won't make sense.  Comment on at least two that do make sense, and at least two that don't.  Why do you think these are happening with this dataset and method?"
   ]
  },
  {
   "cell_type": "code",
   "execution_count": 1,
   "metadata": {
    "collapsed": true
   },
   "outputs": [],
   "source": [
    "from polarity import *\n",
    "%load_ext autoreload\n",
    "%autoreload 2\n",
    "word_count_dic, word_pair_count_dic = load_pickle()"
   ]
  },
  {
   "cell_type": "code",
   "execution_count": 2,
   "metadata": {
    "scrolled": false
   },
   "outputs": [
    {
     "name": "stdout",
     "output_type": "stream",
     "text": [
      "calculating polarity\n",
      "\n",
      "=======positive=======\n",
      "\n",
      "teyana\n",
      "von\n",
      "keef\n",
      "herban\n",
      "https://t.co/i46mhn5tag\n",
      "https://t.co/inu4pqos7z\n",
      "😂😂😂😍\n",
      "compatibility\n",
      "https://t.co/fqzq3jafc8\n",
      "calculated\n",
      "decay\n",
      "meera\n",
      "pupared\n",
      "doggo…\n",
      "doghouse\n",
      "paredes\n",
      "colores\n",
      "https://t.co/80kojb2tym\n",
      "arguing\\\n",
      "rp2\n",
      "♡\n",
      "shrek\n",
      "https://t.co/ddcjklbnjr\n",
      "ol\n",
      "hosting\n",
      "😍❤\n",
      "bit…\n",
      "https://t.co/hunogxiknz\n",
      "taylor\n",
      "only🍀\n",
      "https://t.co/lngo5tdph6\n",
      "https://t.co/2q2ubkbmzc\n",
      "memes…\n",
      "23\n",
      "https://t.co/xdmus3yiv5\n",
      "https://t.co/twwot4t9xh\n",
      "https://t.co/10h74zbeja\n",
      "viola\n",
      "💘\n",
      "*7\n",
      "https://t.co/su15susg6v\n",
      "lik…\n",
      "pregnancy\n",
      "😬💯\n",
      "https://t.co/o95oqhkyoj\n",
      "😍they\n",
      "😂🕺🏽\n",
      "🙄🙄🤷🏽‍♂️\n",
      "this😊\n",
      "treated…\n",
      "\n",
      "=======negative=======\n",
      "\n",
      "saf…\n",
      "https://t.co/elgddnernv\n",
      "they\\\n",
      "multi…\n",
      "jdjxjcjszjsj\\\n",
      "n-word\\\n",
      "https://t.co/geonthtjfz\n",
      "fliers\n",
      "pretext\n",
      "16…\n",
      "cigarettes\n",
      "safest\n",
      "https://t.co/fit4as5b…\n",
      "primarily\n",
      "forms\\\n",
      "-scott\n",
      "farmer\n",
      "cracker\n",
      "obama’s\n",
      "lakh\n",
      "idea…\n",
      "ploughing\n",
      "twitte…\n",
      "anti-muslim\n",
      "vandalism\n",
      "engineer\n",
      "decreased\n",
      "↑\n",
      "centers\n",
      "https://t.co/mzzuxnzsif\n",
      "https://t.co/j3riav1yrb\n",
      "collapsing\n",
      "hearts\\\n",
      "https://t.co/8zha4a…\n",
      "vague\n",
      "30days\n",
      "https://t.co/p3gf70ys33\n",
      "😱🙏\n",
      "amén\n",
      "closure\n",
      "*197%*\n",
      "swaddle\n",
      "https://t.co/vnpbsk5net\n",
      "https://t.co/gulhi9tch1\n",
      "o'care:\n",
      "american…\n",
      "jccs\n",
      "defeating\n",
      "eradicate\n",
      "https://t.co/28pnrygixl\n"
     ]
    }
   ],
   "source": [
    "print 'calculating polarity'\n",
    "polarity_dic = calculate_polarity(word_count_dic, word_pair_count_dic)\n",
    "print '\\n=======positive=======\\n'\n",
    "sorted_polarity = sorted(polarity_dic.items(), key=lambda (w, c): -c)\n",
    "for p in sorted_polarity[:50]:\n",
    "    print p[0]\n",
    "print '\\n=======negative=======\\n'\n",
    "for p in reversed(sorted_polarity[-50:]):\n",
    "    print p[0]"
   ]
  },
  {
   "cell_type": "markdown",
   "metadata": {
    "collapsed": true
   },
   "source": [
    "♡ and 💘 make as positive words while teyana and von doesn't. I look at the data, the reason why tenyana is a very positive word because there is a lot a duplication tweets contain tenyana with a positive word. The reulst of von is same as tenyana. This type of overfitting."
   ]
  },
  {
   "cell_type": "markdown",
   "metadata": {},
   "source": [
    "## Question 3 (5 points)\n",
    "\n",
    "Now filter out all the words which have total count < 500, and then print top 50 polarity words and bottom 50 polarity words. \n",
    "\n",
    "Choose some of the words from both the sets of 50 words you got above which accoording to you make sense. Again please note, you will find many words which don't make sense. Do you think these results are better than the results you got in Question-1? Explain why."
   ]
  },
  {
   "cell_type": "code",
   "execution_count": 3,
   "metadata": {
    "scrolled": false
   },
   "outputs": [
    {
     "name": "stdout",
     "output_type": "stream",
     "text": [
      "teyana\n",
      "von\n",
      "keef\n",
      "herban\n",
      "https://t.co/i46mhn5tag\n",
      "😂😂😂😍\n",
      "https://t.co/inu4pqos7z\n",
      "decay\n",
      "ol\n",
      "taylor\n",
      "pregnancy\n",
      "hood\n",
      "birthday\n",
      "❤️\n",
      "❤\n",
      "😊\n",
      "hilarious\n",
      "morning\n",
      "d\n",
      "fall\n",
      "thank\n",
      "happy\n",
      "falling\n",
      "march\n",
      "beautiful\n",
      "thanks\n",
      "nadine\n",
      "follow\n",
      "amazing\n",
      "😍\n",
      "proud\n",
      "loved\n",
      "soon\n",
      "feels\n",
      "forever\n",
      "sounds\n",
      ":)\n",
      "young\n",
      "!!\n",
      "deserve\n",
      "together\n",
      "you\\\n",
      "support\n",
      "movie\n",
      "vibes\n",
      "!!!\n",
      "become\n",
      "hope\n",
      "luck\n",
      "panalomoto\n",
      "\n",
      "=======negative=======\n",
      "\n",
      "saf…\n",
      "cigarettes\n",
      "condemning\n",
      "marijuana\n",
      "crimes\n",
      "i’ll\n",
      "stands\n",
      "beer\n",
      "forms\n",
      "store\n",
      "explain\n",
      "crime\n",
      "evil\n",
      "united\n",
      "ugly\n",
      "pick\n",
      "child\n",
      "against\n",
      "after\n",
      "w\n",
      "dems\n",
      "stand\n",
      "ppl\n",
      "went\n",
      "parents\n",
      "american\n",
      "men\n",
      "whole\n",
      "ask\n",
      "country\n",
      "idk\n",
      "says\n",
      "trump\n",
      "its\n",
      "every\n",
      "myself\n",
      "something\n",
      "negative\n",
      "women\n",
      "woman\n",
      "use\n",
      "believe\n",
      "send\n",
      "must\n",
      "nothing\n",
      "why\n",
      "going\n",
      "right\n",
      "white\n",
      "school\n"
     ]
    }
   ],
   "source": [
    "polarity_dic = calculate_polarity(word_count_dic, word_pair_count_dic,filter=500)\n",
    "sorted_polarity = sorted(polarity_dic.items(), key=lambda (w, c): -c)\n",
    "for p in sorted_polarity[:50]:\n",
    "    print p[0]\n",
    "print '\\n=======negative=======\\n'\n",
    "for p in reversed(sorted_polarity[-50:]):\n",
    "    print p[0]"
   ]
  },
  {
   "cell_type": "markdown",
   "metadata": {},
   "source": [
    "The result is better than Question 1, because it avoid cases that high PMI value create by low P(x,y) and P(x). If P(x,y) and P(x) are very small, like approximate -infinity, then the PMI is very large  since P(x,y)/P(x)P(Y) is approching 1. "
   ]
  },
  {
   "cell_type": "markdown",
   "metadata": {},
   "source": [
    "## Question 4 (5 points)\n",
    "\n",
    "Even after filtering out words with count < 500, many top-most and bottom-most polarity don't make sense. Identify what kind of words these are and what can be done to filter them out. You can read some tweets in the file to see what's happening. "
   ]
  },
  {
   "cell_type": "markdown",
   "metadata": {
    "collapsed": true
   },
   "source": [
    "The top most word doesn't make sense, because inside the dataset there are a lot of same tweet contain teyana and a positive word at the same time, this is kind of overfitting in training process. The bottom most word is school, this happen because some tweets containt school with a positive also containt a negative word and a positive word at the same time. If the number of pos tweet contain worse or number of neg tweet contain worse is close to each other, then polarity of worse is approching 0. "
   ]
  },
  {
   "cell_type": "markdown",
   "metadata": {},
   "source": [
    "# Part-2: Distributional Semantics"
   ]
  },
  {
   "cell_type": "markdown",
   "metadata": {},
   "source": [
    "## Cosine Similarity"
   ]
  },
  {
   "cell_type": "markdown",
   "metadata": {},
   "source": [
    "Recall that, where $i$ indexes over the context types, cosine similarity is defined as follows. $x$ and $y$ are both vectors of context counts (each for a different word), where $x_i$ is the count of context $i$.\n",
    "\n",
    "$$cossim(x,y) = \\frac{ \\sum_i x_i y_i }{ \\sqrt{\\sum_i x_i^2} \\sqrt{\\sum_i y_i^2} }$$\n",
    "\n",
    "The nice thing about cosine similarity is that it is normalized: no matter what the input vectors are, the output is between 0 and 1. One way to think of this is that cosine similarity is just, um, the cosine function, which has this property (for non-negative $x$ and $y$). Another way to think of it is, to work through the situations of maximum and minimum similarity between two context vectors, starting from the definition above.\n",
    "\n",
    "Note: a good way to understand the cosine similarity function is that the numerator cares about whether the $x$ and $y$ vectors are correlated. If $x$ and $y$ tend to have high values for the same contexts, the numerator tends to be big. The denominator can be thought of as a normalization factor: if all the values of $x$ are really large, for example, dividing by the square root of their sum-of-squares prevents the whole thing from getting arbitrarily large. In fact, dividing by both these things (aka their norms) means the whole thing can’t go higher than 1.\n",
    "\n",
    "In this problem we'll work with vectors of raw context counts.  (As you know, this is not necessarily the best representation.)"
   ]
  },
  {
   "cell_type": "markdown",
   "metadata": {},
   "source": [
    "## Question 5 (5 points)\n",
    "\n",
    "See the file `nytcounts.university_cat_dog`, which contains context count vectors for three words: “dog”, “cat”, and “university”. These are immediate left and right contexts from a New York Times corpus. You can open the file in a text editor since it’s quite small. \n",
    "\n",
    "Write a function which takes context count dictionaries of two words and calculates cosine similarity between these two words. The function should return a number beween 0 and 1.  Briefly comment on whether the relative simlarities make sense.\n",
    "\n"
   ]
  },
  {
   "cell_type": "code",
   "execution_count": 4,
   "metadata": {},
   "outputs": [
    {
     "name": "stdout",
     "output_type": "stream",
     "text": [
      "file nytcounts.university_cat_dog has contexts for 3 words\n",
      "0.663648140051\n",
      "0.967685712101\n",
      "0.661399002763\n"
     ]
    }
   ],
   "source": [
    "import distsim; reload(distsim)\n",
    "\n",
    "word_to_ccdict = distsim.load_contexts(\"nytcounts.university_cat_dog\")\n",
    "university = word_to_ccdict['university']\n",
    "dog = word_to_ccdict['dog']\n",
    "cat = word_to_ccdict['cat']\n",
    "\n",
    "u,c = distsim.dict_to_vect(university, cat)\n",
    "print distsim.cosine(u, c)\n",
    "d,c = distsim.dict_to_vect(dog, cat)\n",
    "print distsim.cosine(d, c)\n",
    "u,d = distsim.dict_to_vect(university, dog)\n",
    "print distsim.cosine(u, d)\n",
    "\n",
    "# write code here to show output (i.e. cosine similarity between these words.)\n",
    "# We encourage you to write other functions in distsim.py itself. "
   ]
  },
  {
   "cell_type": "markdown",
   "metadata": {},
   "source": [
    "The output make sense while comparing dog and cat since they both are pets and animals, thus they might has similar meaning in the context. However, while comparing university with cat or dogs, the result dosen't make any sense, because university is not an animal while cat and dog are, the similarity should be low given different context."
   ]
  },
  {
   "cell_type": "markdown",
   "metadata": {},
   "source": [
    "\n",
    "## Question 6 (20 points)\n",
    "\n",
    "Explore similarities in `nytcounts.4k`, which contains context counts for about 4000 words in a sample of New York Times articles. The news data was lowercased and URLs were removed. The context counts are for the 2000 most common words in twitter, as well as the most common 2000 words in the New York Times. (But all context counts are from New York Times.) The context counts only contain contexts that appeared for more than one word.  The file has three tab-separate fields: the word, its count, and a JSON-encoded dictionary of its context counts.  You'll see it's just counts of the immediate left/right neighbors.\n",
    "\n",
    "Choose **six** words. For each, show the output of 20 nearest words (use cosine similarity as distance metric). Comment on whether the output makes sense. Comment on whether this approach to distributional similarity makes more or less sense for certain terms.\n",
    "Four of your words should be:\n",
    "\n",
    " * a name (for example: person, organization, or location)\n",
    " * a common noun\n",
    " * an adjective\n",
    " * a verb\n",
    "\n",
    "You may also want to try exploring further words that are returned from a most-similar list from one of these. You can think of this as traversing the similarity graph among words.\n",
    "\n",
    "*Implementation note:* \n",
    "On my laptop it takes several hundred MB of memory to load it into memory from the `load_contexts()` function. If you don’t have enough memory available, your computer will get very slow because the OS will start swapping. If you have to use a machine without that much memory available, you can instead implement in a streaming approach by using the `stream_contexts()` generator function to access the data; this lets you iterate through the data from disk, one vector at a time, without putting everything into memory. You can see its use in the loading function. (You could also alternatively use a key-value or other type of database, but that’s too much work for this assignment.)"
   ]
  },
  {
   "cell_type": "code",
   "execution_count": 5,
   "metadata": {
    "scrolled": true
   },
   "outputs": [
    {
     "name": "stdout",
     "output_type": "stream",
     "text": [
      "file nytcounts.4k has contexts for 3648 words\n"
     ]
    }
   ],
   "source": [
    "import distsim; reload(distsim)\n",
    "word_to_ccdict = distsim.load_contexts(\"nytcounts.4k\")"
   ]
  },
  {
   "cell_type": "code",
   "execution_count": 6,
   "metadata": {},
   "outputs": [
    {
     "name": "stderr",
     "output_type": "stream",
     "text": [
      "distsim.py:68: RuntimeWarning: invalid value encountered in double_scalars\n",
      "  cos = dot_product / (size_1 * size_2)\n"
     ]
    },
    {
     "name": "stdout",
     "output_type": "stream",
     "text": [
      "Top 20 similar word of google is : ford iran disney russia sam nike everybody fox hamas china m jackson wright god alex jack brown it prince stewart\n",
      "Top 20 similar word of dog is : song car tree hotel bike studio complex gym blind law window bar shower bridge workout job wedding kid net cold\n",
      "Top 20 similar word of fire is : bar law wall newspaper gym screen bathroom studio cold blast property daily land fashion draft track blue market ship phone\n",
      "Top 20 similar word of go is : speak seek fly choose turn move get come grow learn decide bring push apply help sell pass throw return stop\n",
      "Top 20 similar word of hello is : readers gone cheat drive sorry forget 4 20 seconds rude visitors followers around exciting employees wednesday moves rose 25 friday\n",
      "Top 20 similar word of sad is : cool fair silly sexy hero dry pizza production monster personality complex safe campaign workout warm fantastic song character fashion cousin\n"
     ]
    }
   ],
   "source": [
    "words = ['google', 'dog', 'fire', 'go', 'hello','sad']\n",
    "for w in words:\n",
    "    similarity_dic = distsim.nearest_word(word_to_ccdict, w)\n",
    "    print 'Top 20 similar word of {} is :'.format(w),\n",
    "    for k in similarity_dic:\n",
    "        print k[0],\n",
    "    print"
   ]
  },
  {
   "cell_type": "markdown",
   "metadata": {},
   "source": [
    "Given google, most the word it return make sense, since most of them are also name. Which means they are similar under contexts. <br>\n",
    "Given dog, most the word it return does not make sense, because most of the word it return are not animal. I think describing animal and regular object should have big different under any context. <br>\n",
    "Given fire, words do not make any sense to me. The fire I want is noun but this somehow return most of the word the relate to fire as an action. <br>\n",
    "Given go, all the words make sense to me, because all of them are action words <br>\n",
    "Given hello, none of the words makes sense to me, it looks like randomly generate word for me <br>\n",
    "Given sad, many of the words make sense to me because most of them are adjectives <br>"
   ]
  },
  {
   "cell_type": "markdown",
   "metadata": {},
   "source": [
    "## Question 7 (10 points)\n",
    "\n",
    "In the next several questions, you'll examine similarities in trained word embeddings, instead of raw context counts.\n",
    "\n",
    "See the file `nyt_word2vec.university_cat_dog`, which contains word embedding vectors pretrained by word2vec [1] for three words: “dog”, “cat”, and “university”, from the same corpus. You can open the file in a text editor since it’s quite small.\n",
    "\n",
    "Write a function which takes word embedding vectors of two words and calculates cossine similarity between these 2 words. The function should return a number beween -1 and 1. Briefly comment on whether the relative simlarities make sense. \n",
    "\n",
    "*Implementation note:*\n",
    "Notice that the inputs of this function are numpy arrays (v1 and v2). If you are not very familiar with the basic operation in numpy, you can find some examples in the basic operation section here:\n",
    "https://docs.scipy.org/doc/numpy-dev/user/quickstart.html\n",
    "\n",
    "If you know how to use Matlab but haven't tried numpy before, the following link should be helpful:\n",
    "https://docs.scipy.org/doc/numpy-dev/user/numpy-for-matlab-users.html\n",
    "\n",
    "[1] Mikolov, Tomas, et al. \"Distributed representations of words and phrases and their compositionality.\" NIPS 2013."
   ]
  },
  {
   "cell_type": "code",
   "execution_count": 7,
   "metadata": {},
   "outputs": [
    {
     "name": "stdout",
     "output_type": "stream",
     "text": [
      "0.827517295965\n",
      "-0.205394745036\n",
      "-0.190753135501\n"
     ]
    }
   ],
   "source": [
    "import distsim; reload(distsim)\n",
    "\n",
    "word_to_vec_dict = distsim.load_word2vec(\"nyt_word2vec.university_cat_dog\")\n",
    "dog = word_to_vec_dict['dog']\n",
    "cat = word_to_vec_dict['cat']\n",
    "university = word_to_vec_dict['university']\n",
    "\n",
    "print distsim.cosine(dog,cat)\n",
    "print distsim.cosine(university, cat)\n",
    "print distsim.cosine(university, dog)\n",
    "\n",
    "# write code here to show output (i.e. cosine similarity between these words.)\n",
    "# We encourage you to write other functions in distsim.py itself. "
   ]
  },
  {
   "cell_type": "markdown",
   "metadata": {},
   "source": [
    "The output make sense while comparing dog and cat since they both are pets and animals, thus they might has similar meaning in the context. It also make sense while comparing university with cat or dogs, because university is not an animal while cat and dog are, the similarity should be low given different contexts."
   ]
  },
  {
   "cell_type": "markdown",
   "metadata": {},
   "source": [
    "## Question 8 (20 points)\n",
    "\n",
    "Repeat the process you did in the question 6, but now use dense vector from word2vec. Comment on whether the outputs makes sense. Compare the outputs of using nearest words on word2vec and the outputs on sparse context vector (so we suggest you to use the same words in question 6). Which method works better on the query words you choose. Please brief explain why one method works better than other in each case.\n",
    "\n",
    "Not: we used the default parameters of word2vec in [gensim](https://radimrehurek.com/gensim/models/word2vec.html) to get word2vec word embeddings."
   ]
  },
  {
   "cell_type": "code",
   "execution_count": 8,
   "metadata": {},
   "outputs": [
    {
     "name": "stdout",
     "output_type": "stream",
     "text": [
      "Top 20 similar word of google is : microsoft sony software wireless wal-mart ebay ads youtube internet online itunes web technology content users product digital network amazon dvd\n",
      "Top 20 similar word of dog is : cat hat kid mom girl belly shirt bag pants boy baby blonde hair kiss bird daddy shoes pink boots monster\n",
      "Top 20 similar word of fire is : police blast bomb truck traffic command accident train crash smoke subway emergency shooting interior attack plane squad bus investigation baghdad\n",
      "Top 20 similar word of go is : stay get come sit walk leave move stick wait fly pass hang pull take enter listen bring turn reach run\n",
      "Top 20 similar word of hello is : goodbye hi goodnight yeah ya ok ha y'all ah wow dare gosh grandma oh goin allah momma yo hey hes\n",
      "Top 20 similar word of sad is : scary funny weird terrible ridiculous stupid boring strange horrible silly nice shame hilarious crazy wonderful dumb true sorry amazing cute\n"
     ]
    }
   ],
   "source": [
    "import distsim\n",
    "word_to_vec_dict = distsim.load_word2vec(\"nyt_word2vec.4k\")\n",
    "words = ['google', 'dog', 'fire', 'go', 'hello','sad']\n",
    "for w in words:\n",
    "    similarity_dic = distsim.nearest_word_dense_vect(word_to_vec_dict, w)\n",
    "    print 'Top 20 similar word of {} is :'.format(w),\n",
    "    for k in similarity_dic:\n",
    "        print k[0],\n",
    "    print"
   ]
  },
  {
   "cell_type": "markdown",
   "metadata": {},
   "source": [
    "Given google, most the word it return make sense, since most of them are also company name <br>\n",
    "Given dog, most the word it return does not make sense, because most of the word it return are not animal. I think describing animal and regular object should have big different under any context. <br>\n",
    "Given fire, words do not make any sense to me. The fire I want is noun but this somehow return most of the word the relate to fire as an action. <br>\n",
    "Given go, all the words make sense to me, because all of them are action words <br>\n",
    "Given hello, most of the word make sense <br>\n",
    "Given sad, many of the words make sense to me because most of them are adjectives <br>\n",
    "<br>\n",
    "The result is better than the one in question six under most of the situation. It still fails on 'fire'. I think this happenes because fire can have multiple meaning under different context, and base on the returning result, I think the dataset we are dealing with contain fire as action more than fire as word. I think the data is the major effect on the result"
   ]
  },
  {
   "cell_type": "markdown",
   "metadata": {},
   "source": [
    "## Question 9 (15 points)\n",
    "An interesting thing to try with word embeddings is analogical reasoning tasks. In the following example, it's intended to solve the analogy question \"king is to man as what is to woman?\", or in SAT-style notation,\n",
    "\n",
    "king : man :: ____ : woman\n",
    "\n",
    "Some research has proposed to use additive operations on word embeddings to solve the analogy: take the vector $(v_{king}-v_{man}+v_{woman})$ and find the most-similar word to it.  One way to explain this idea: if you take \"king\", get rid of its attributes/contexts it shares with \"man\", and add in the attributes/contexts of \"woman\", hopefully you'll get to a point in the space that has king-like attributes but the \"man\" ones replaced with \"woman\" ones.\n",
    "\n",
    "Show the output for 20 closest words you get by trying to solve that analogy with this method.  Did it work?\n",
    "\n",
    "Please come up with another analogical reasoning task (another triple of words), and output the answer using the same method. Comment on whether the output makes sense. If the output makes sense, explain why we can capture such relation between words using an unsupervised algorithm. Where does the information come from? On the other hand, if the output does not make sense, propose an explanation why the algorithm fails on this case.\n",
    "\n",
    "\n",
    "Note that the word2vec is trained in an unsupervised manner just with distributional statistics; it is interesting that it can apparently do any reasoning at all.  For a critical view, see [Linzen 2016](http://www.aclweb.org/anthology/W/W16/W16-2503.pdf).\n",
    "\n"
   ]
  },
  {
   "cell_type": "code",
   "execution_count": 9,
   "metadata": {},
   "outputs": [
    {
     "name": "stdout",
     "output_type": "stream",
     "text": [
      "queen princess prince lord royal woman mary mama daughter singer kim elizabeth girl grandma sister mother clark wedding husband boyfriend\n"
     ]
    }
   ],
   "source": [
    "import numpy as np\n",
    "import distsim\n",
    "word_to_vec_dict = distsim.load_word2vec(\"nyt_word2vec.4k\")\n",
    "vect_king = np.array(word_to_vec_dict['king'])\n",
    "vect_man = np.array(word_to_vec_dict['man'])\n",
    "vect_woman = np.array(word_to_vec_dict['woman'])\n",
    "new_vect = vect_king - vect_man + vect_woman\n",
    "nearest_words = distsim.nearest_word_given_vect(word_to_vec_dict, new_vect)\n",
    "for w in nearest_words:\n",
    "    print w[0],"
   ]
  },
  {
   "cell_type": "code",
   "execution_count": 10,
   "metadata": {},
   "outputs": [
    {
     "name": "stdout",
     "output_type": "stream",
     "text": [
      "police command investigation violence hussein accident blast defense afghanistan attack iraqi baghdad bomb insurgents army attacks 9/11 damage shooting crash\n"
     ]
    }
   ],
   "source": [
    "vect_hot = np.array(word_to_vec_dict['hot'])\n",
    "vect_fire = np.array(word_to_vec_dict['fire'])\n",
    "vect_cold = np.array(word_to_vec_dict['cold'])\n",
    "new_vect = vect_fire - vect_hot + vect_cold\n",
    "nearest_words = distsim.nearest_word_given_vect(word_to_vec_dict, new_vect)\n",
    "for w in nearest_words:\n",
    "    print w[0],"
   ]
  },
  {
   "cell_type": "markdown",
   "metadata": {},
   "source": [
    "The output does not make sence. This is because, the probability of the co-occurrence of \"fire\" and \"hot\" not similar to that of \"police\" and \"cold\". Using unsupervised learning is hard to capture word that has different meanings under different context.\n",
    "\n",
    "On the other hand, during the training, the learning algorithm can capture some latent meaning of the word. For example, \"king\" is a combination of \"man\" and \"power\", so that when removing the characteristic \"man\" and adding \"woman\", it becomes a combination of \"woman\" and \"power\", which is \"queen\".\n"
   ]
  },
  {
   "cell_type": "code",
   "execution_count": null,
   "metadata": {
    "collapsed": true
   },
   "outputs": [],
   "source": []
  }
 ],
 "metadata": {
  "anaconda-cloud": {},
  "kernelspec": {
   "display_name": "Python 2",
   "language": "python",
   "name": "python2"
  },
  "language_info": {
   "codemirror_mode": {
    "name": "ipython",
    "version": 2
   },
   "file_extension": ".py",
   "mimetype": "text/x-python",
   "name": "python",
   "nbconvert_exporter": "python",
   "pygments_lexer": "ipython2",
   "version": "2.7.13"
  }
 },
 "nbformat": 4,
 "nbformat_minor": 1
}
